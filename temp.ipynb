{
 "cells": [
  {
   "cell_type": "code",
   "execution_count": 112,
   "metadata": {},
   "outputs": [],
   "source": [
    "import numpy as np\n",
    "import matplotlib.pyplot as plt\n",
    "import math\n",
    "import pandas as pd\n",
    "import scipy.stats as stats\n",
    "from sklearn.linear_model import LinearRegression, Lasso\n",
    "from sklearn.model_selection import train_test_split\n",
    "from sklearn.metrics import mean_squared_error, r2_score\n",
    "import statsmodels.api as sm"
   ]
  },
  {
   "cell_type": "markdown",
   "metadata": {},
   "source": [
    "# Cleaning data \n",
    "Importing data and removing NaN values"
   ]
  },
  {
   "cell_type": "code",
   "execution_count": 113,
   "metadata": {},
   "outputs": [],
   "source": [
    "data = pd.read_csv('Salary_Data.csv')\n",
    "data=data.dropna()"
   ]
  },
  {
   "cell_type": "code",
   "execution_count": 114,
   "metadata": {},
   "outputs": [
    {
     "name": "stdout",
     "output_type": "stream",
     "text": [
      "['Age', 'Gender', 'Education Level', 'Job Title', 'Years of Experience', 'Salary']\n"
     ]
    }
   ],
   "source": [
    "print(list(data.columns))"
   ]
  },
  {
   "cell_type": "code",
   "execution_count": 115,
   "metadata": {},
   "outputs": [
    {
     "name": "stdout",
     "output_type": "stream",
     "text": [
      "Education Level\n",
      "Bachelor's Degree    2265\n",
      "Master's Degree      1572\n",
      "PhD                  1368\n",
      "Bachelor's            756\n",
      "High School           448\n",
      "Master's              288\n",
      "phD                     1\n",
      "Name: count, dtype: int64\n"
     ]
    }
   ],
   "source": [
    "Education_counts = data['Education Level'].value_counts()\n",
    "print(Education_counts)"
   ]
  },
  {
   "cell_type": "markdown",
   "metadata": {},
   "source": [
    "Some education level entries mean the same thing. Thus, we need to merge the entries together"
   ]
  },
  {
   "cell_type": "code",
   "execution_count": 116,
   "metadata": {},
   "outputs": [],
   "source": [
    "df = data\n",
    "df['Education Level'].replace(\"Bachelor's\", \"Bachelor's Degree\", inplace=True)\n",
    "df['Education Level'].replace(\"Master's\", \"Master's Degree\", inplace=True)\n",
    "df['Education Level'].replace(\"phD\", \"PhD\", inplace=True)"
   ]
  },
  {
   "cell_type": "code",
   "execution_count": 117,
   "metadata": {},
   "outputs": [
    {
     "name": "stdout",
     "output_type": "stream",
     "text": [
      "Education Level\n",
      "Bachelor's Degree    3021\n",
      "Master's Degree      1860\n",
      "PhD                  1369\n",
      "High School           448\n",
      "Name: count, dtype: int64\n"
     ]
    }
   ],
   "source": [
    "#checking if the values are merged\n",
    "Education_counts_merged = df['Education Level'].value_counts()\n",
    "print(Education_counts_merged)"
   ]
  },
  {
   "cell_type": "markdown",
   "metadata": {},
   "source": [
    "Making dummy variables"
   ]
  },
  {
   "cell_type": "code",
   "execution_count": 118,
   "metadata": {},
   "outputs": [],
   "source": [
    "dummies_gender = pd.get_dummies(df['Gender'])\n",
    "dummies_education = pd.get_dummies(df[\"Education Level\"])\n",
    "df = pd.concat([df, dummies_gender,dummies_education], axis=1)\n",
    "df.drop('Gender', axis=1, inplace=True)\n",
    "df.drop(\"Education Level\",axis=1,inplace=True)\n"
   ]
  },
  {
   "cell_type": "code",
   "execution_count": 119,
   "metadata": {},
   "outputs": [
    {
     "name": "stdout",
     "output_type": "stream",
     "text": [
      "    Age          Job Title  Years of Experience    Salary  Female   Male  \\\n",
      "0  32.0  Software Engineer                  5.0   90000.0   False   True   \n",
      "1  28.0       Data Analyst                  3.0   65000.0    True  False   \n",
      "2  45.0     Senior Manager                 15.0  150000.0   False   True   \n",
      "3  36.0    Sales Associate                  7.0   60000.0    True  False   \n",
      "4  52.0           Director                 20.0  200000.0   False   True   \n",
      "\n",
      "   Other  Bachelor's Degree  High School  Master's Degree    PhD  \n",
      "0  False               True        False            False  False  \n",
      "1  False              False        False             True  False  \n",
      "2  False              False        False            False   True  \n",
      "3  False               True        False            False  False  \n",
      "4  False              False        False             True  False  \n"
     ]
    }
   ],
   "source": [
    "print(df.head())"
   ]
  },
  {
   "cell_type": "markdown",
   "metadata": {},
   "source": [
    "# T-testing for Male and Female Salaries\n",
    "Getting the salaries of male and female"
   ]
  },
  {
   "cell_type": "code",
   "execution_count": 120,
   "metadata": {},
   "outputs": [],
   "source": [
    "male_salary = np.array(df[df['Male'] == True]['Salary'].values)\n",
    "female_salary = np.array(df[df['Female'] == True]['Salary'].values)\n"
   ]
  },
  {
   "cell_type": "code",
   "execution_count": 121,
   "metadata": {},
   "outputs": [
    {
     "name": "stdout",
     "output_type": "stream",
     "text": [
      "T-Statistic: 10.489305680117718\n",
      "P-Value: 1.5264743340303035e-25\n",
      "The difference between Male and Female salary is statistically significant.\n"
     ]
    }
   ],
   "source": [
    "t_statistic, p_value = stats.ttest_ind(male_salary, female_salary)\n",
    "\n",
    "# Display the results\n",
    "print(\"T-Statistic:\", t_statistic)\n",
    "print(\"P-Value:\", p_value)\n",
    "\n",
    "# Check if the result is statistically significant (common alpha level is 0.05)\n",
    "if p_value < 0.05:\n",
    "    print(\"The difference between Male and Female salary is statistically significant.\")\n",
    "else:\n",
    "    print(\"There is no significant difference Male and Female salary.\")"
   ]
  },
  {
   "cell_type": "markdown",
   "metadata": {},
   "source": [
    "Since the difference between Male and Female salary is statistically significant, we need to do Confidence Interval to determine which gender earns more and the range for its difference."
   ]
  },
  {
   "cell_type": "code",
   "execution_count": 122,
   "metadata": {},
   "outputs": [
    {
     "name": "stdout",
     "output_type": "stream",
     "text": [
      "Mean Difference: 13506.698957654036\n",
      "Confidence Interval (95.0%): (10979.5017984352, 16033.896116872873)\n"
     ]
    }
   ],
   "source": [
    "#Confidence interval \n",
    "mean_male = np.mean(male_salary)\n",
    "mean_female = np.mean(female_salary)\n",
    "std_dev_male = np.std(male_salary, ddof=1)  # ddof=1 for sample standard deviation\n",
    "std_dev_female = np.std(female_salary, ddof=1)\n",
    "\n",
    "# Set the confidence level and calculate the confidence interval for the difference\n",
    "confidence_level = 0.95\n",
    "degrees_of_freedom = len(male_salary) + len(female_salary) - 2  # Degrees of freedom for two-sample t-test\n",
    "\n",
    "# Calculate the standard error of the difference between means\n",
    "std_error_diff = np.sqrt((std_dev_male**2 / len(male_salary)) + (std_dev_female**2 / len(female_salary)))\n",
    "\n",
    "# Calculate the t-statistic for the given confidence level and degrees of freedom\n",
    "t_statistic = stats.t.ppf((1 + confidence_level) / 2, degrees_of_freedom)\n",
    "\n",
    "# Calculate the margin of error\n",
    "margin_of_error = t_statistic * std_error_diff\n",
    "\n",
    "# Calculate the confidence interval for the difference between means\n",
    "lower_bound = (mean_male - mean_female) - margin_of_error\n",
    "upper_bound = (mean_male - mean_female) + margin_of_error\n",
    "\n",
    "# Display the results\n",
    "print(f\"Mean Difference: {mean_male - mean_female}\")\n",
    "print(f\"Confidence Interval ({confidence_level * 100}%): ({lower_bound}, {upper_bound})\")"
   ]
  },
  {
   "cell_type": "markdown",
   "metadata": {},
   "source": [
    "Conclude with 95% CI that Males earn more than Females"
   ]
  },
  {
   "cell_type": "markdown",
   "metadata": {},
   "source": [
    "# Linear Regression"
   ]
  },
  {
   "cell_type": "code",
   "execution_count": 123,
   "metadata": {},
   "outputs": [
    {
     "name": "stdout",
     "output_type": "stream",
     "text": [
      "Coefficients: [  3301.79357509  -2149.59826484  -1152.19531025 -36217.53727772\n",
      "    995.78266981  12696.68013248  22525.07447543   5750.26559335]\n",
      "Intercept: 61783.19535297727\n"
     ]
    }
   ],
   "source": [
    "X = df[['Male','Female','Other','High School',\"Bachelor's Degree\",\"Master's Degree\",'PhD', \"Years of Experience\"]]\n",
    "Y = df['Salary']\n",
    "\n",
    "model = LinearRegression().fit(X, Y,[1 for i in range(6698)])\n",
    "print(\"Coefficients:\", model.coef_)\n",
    "print(\"Intercept:\", model.intercept_)"
   ]
  },
  {
   "cell_type": "code",
   "execution_count": 124,
   "metadata": {},
   "outputs": [
    {
     "name": "stdout",
     "output_type": "stream",
     "text": [
      "       Male  Female  Other  High School  Bachelor's Degree  Master's Degree  \\\n",
      "0      True   False  False        False               True            False   \n",
      "1     False    True  False        False              False             True   \n",
      "2      True   False  False        False              False            False   \n",
      "3     False    True  False        False               True            False   \n",
      "4      True   False  False        False              False             True   \n",
      "...     ...     ...    ...          ...                ...              ...   \n",
      "6699  False    True  False        False              False            False   \n",
      "6700   True   False  False         True              False            False   \n",
      "6701  False    True  False        False               True            False   \n",
      "6702   True   False  False        False              False             True   \n",
      "6703  False    True  False         True              False            False   \n",
      "\n",
      "        PhD  Years of Experience  \n",
      "0     False                  5.0  \n",
      "1     False                  3.0  \n",
      "2      True                 15.0  \n",
      "3     False                  7.0  \n",
      "4     False                 20.0  \n",
      "...     ...                  ...  \n",
      "6699   True                 20.0  \n",
      "6700  False                  3.0  \n",
      "6701  False                  4.0  \n",
      "6702  False                 14.0  \n",
      "6703  False                  1.0  \n",
      "\n",
      "[6698 rows x 8 columns]\n"
     ]
    }
   ],
   "source": [
    "print(X)"
   ]
  },
  {
   "cell_type": "code",
   "execution_count": 125,
   "metadata": {},
   "outputs": [
    {
     "name": "stdout",
     "output_type": "stream",
     "text": [
      "0        90000.0\n",
      "1        65000.0\n",
      "2       150000.0\n",
      "3        60000.0\n",
      "4       200000.0\n",
      "          ...   \n",
      "6699    200000.0\n",
      "6700     50000.0\n",
      "6701     55000.0\n",
      "6702    140000.0\n",
      "6703     35000.0\n",
      "Name: Salary, Length: 6698, dtype: float64\n"
     ]
    }
   ],
   "source": [
    "print(Y)"
   ]
  },
  {
   "cell_type": "markdown",
   "metadata": {},
   "source": [
    "Using the model to predict the salary"
   ]
  },
  {
   "cell_type": "code",
   "execution_count": 126,
   "metadata": {},
   "outputs": [],
   "source": [
    "#Prediction Model\n",
    "male = 1\n",
    "female = 0\n",
    "other = 0\n",
    "\n",
    "yoe = 5\n",
    "\n",
    "high_sch=0\n",
    "bach=1\n",
    "master=0\n",
    "phd=0\n"
   ]
  },
  {
   "cell_type": "code",
   "execution_count": 127,
   "metadata": {},
   "outputs": [
    {
     "name": "stdout",
     "output_type": "stream",
     "text": [
      "Predicted Value: 94832.09956460405\n"
     ]
    },
    {
     "name": "stderr",
     "output_type": "stream",
     "text": [
      "/Library/Frameworks/Python.framework/Versions/3.11/lib/python3.11/site-packages/sklearn/base.py:465: UserWarning: X does not have valid feature names, but LinearRegression was fitted with feature names\n",
      "  warnings.warn(\n"
     ]
    }
   ],
   "source": [
    "# New data for prediction\n",
    "new_data = np.array([[male,female,other,high_sch,bach,master,phd,yoe]])  \n",
    "\n",
    "# Make predictions using the model\n",
    "predicted_value = model.predict(new_data)\n",
    "\n",
    "# Print the predicted value\n",
    "print(\"Predicted Value:\", predicted_value[0])"
   ]
  },
  {
   "cell_type": "markdown",
   "metadata": {},
   "source": [
    "Checking the accuracy of the model with a randomly selected individual and checking how far off the predicted salary is from their actual salary"
   ]
  },
  {
   "cell_type": "code",
   "execution_count": 128,
   "metadata": {},
   "outputs": [],
   "source": [
    "X=sm.add_constant(X)\n"
   ]
  },
  {
   "cell_type": "code",
   "execution_count": 129,
   "metadata": {},
   "outputs": [],
   "source": [
    "x=np.asarray(X,dtype=np.float32)"
   ]
  },
  {
   "cell_type": "code",
   "execution_count": 130,
   "metadata": {},
   "outputs": [
    {
     "name": "stdout",
     "output_type": "stream",
     "text": [
      "                            OLS Regression Results                            \n",
      "==============================================================================\n",
      "Dep. Variable:                 Salary   R-squared:                       0.707\n",
      "Model:                            OLS   Adj. R-squared:                  0.707\n",
      "Method:                 Least Squares   F-statistic:                     2697.\n",
      "Date:                Wed, 20 Dec 2023   Prob (F-statistic):               0.00\n",
      "Time:                        17:04:23   Log-Likelihood:                -78221.\n",
      "No. Observations:                6698   AIC:                         1.565e+05\n",
      "Df Residuals:                    6691   BIC:                         1.565e+05\n",
      "Df Model:                           6                                         \n",
      "Covariance Type:            nonrobust                                         \n",
      "==============================================================================\n",
      "                 coef    std err          t      P>|t|      [0.025      0.975]\n",
      "------------------------------------------------------------------------------\n",
      "const       3.902e+04   1711.561     22.798      0.000    3.57e+04    4.24e+04\n",
      "x1          1.631e+04   2081.573      7.835      0.000    1.22e+04    2.04e+04\n",
      "x2          1.086e+04   2083.362      5.211      0.000    6773.337    1.49e+04\n",
      "x3          1.185e+04   5744.689      2.064      0.039     593.375    2.31e+04\n",
      "x4         -2.646e+04   1159.951    -22.813      0.000   -2.87e+04   -2.42e+04\n",
      "x5          1.075e+04    709.782     15.147      0.000    9359.628    1.21e+04\n",
      "x6          2.245e+04    824.832     27.220      0.000    2.08e+04    2.41e+04\n",
      "x7          3.228e+04   1022.810     31.560      0.000    3.03e+04    3.43e+04\n",
      "x8          5750.2655     73.272     78.478      0.000    5606.629    5893.902\n",
      "==============================================================================\n",
      "Omnibus:                      503.098   Durbin-Watson:                   0.768\n",
      "Prob(Omnibus):                  0.000   Jarque-Bera (JB):              632.372\n",
      "Skew:                           0.695   Prob(JB):                    4.81e-138\n",
      "Kurtosis:                       3.576   Cond. No.                     1.23e+16\n",
      "==============================================================================\n",
      "\n",
      "Notes:\n",
      "[1] Standard Errors assume that the covariance matrix of the errors is correctly specified.\n",
      "[2] The smallest eigenvalue is 4.56e-27. This might indicate that there are\n",
      "strong multicollinearity problems or that the design matrix is singular.\n"
     ]
    }
   ],
   "source": [
    "model_sm = sm.OLS(Y, x).fit()\n",
    "print(model_sm.summary())"
   ]
  },
  {
   "cell_type": "markdown",
   "metadata": {},
   "source": [
    "# Machine Learning using Linear Regression\n",
    "To conduct machine learning, we must first split the cleaned data into training and testing. Training datasets will consists of 70% of the data and the testing will be the remaining 30%."
   ]
  },
  {
   "cell_type": "code",
   "execution_count": 131,
   "metadata": {},
   "outputs": [],
   "source": [
    "y_ml = df['Salary']\n",
    "x_ml = df.drop(columns=['Salary','Job Title'])"
   ]
  },
  {
   "cell_type": "code",
   "execution_count": 132,
   "metadata": {},
   "outputs": [
    {
     "name": "stdout",
     "output_type": "stream",
     "text": [
      "       Age  Years of Experience  Female   Male  Other  Bachelor's Degree  \\\n",
      "0     32.0                  5.0   False   True  False               True   \n",
      "1     28.0                  3.0    True  False  False              False   \n",
      "2     45.0                 15.0   False   True  False              False   \n",
      "3     36.0                  7.0    True  False  False               True   \n",
      "4     52.0                 20.0   False   True  False              False   \n",
      "...    ...                  ...     ...    ...    ...                ...   \n",
      "6699  49.0                 20.0    True  False  False              False   \n",
      "6700  32.0                  3.0   False   True  False              False   \n",
      "6701  30.0                  4.0    True  False  False               True   \n",
      "6702  46.0                 14.0   False   True  False              False   \n",
      "6703  26.0                  1.0    True  False  False              False   \n",
      "\n",
      "      High School  Master's Degree    PhD  \n",
      "0           False            False  False  \n",
      "1           False             True  False  \n",
      "2           False            False   True  \n",
      "3           False            False  False  \n",
      "4           False             True  False  \n",
      "...           ...              ...    ...  \n",
      "6699        False            False   True  \n",
      "6700         True            False  False  \n",
      "6701        False            False  False  \n",
      "6702        False             True  False  \n",
      "6703         True            False  False  \n",
      "\n",
      "[6698 rows x 9 columns]\n"
     ]
    }
   ],
   "source": [
    "print(x_ml)"
   ]
  },
  {
   "cell_type": "code",
   "execution_count": 133,
   "metadata": {},
   "outputs": [],
   "source": [
    "X_train, X_test, y_train, y_test = train_test_split(x_ml, y_ml, test_size=0.3, random_state=42)"
   ]
  },
  {
   "cell_type": "code",
   "execution_count": 134,
   "metadata": {},
   "outputs": [
    {
     "name": "stdout",
     "output_type": "stream",
     "text": [
      "       Age  Years of Experience  Female   Male  Other  Bachelor's Degree  \\\n",
      "4092  43.0                 16.0   False   True  False              False   \n",
      "2180  33.0                  6.0    True  False  False               True   \n",
      "5224  25.0                  1.0   False   True  False               True   \n",
      "459   30.0                  5.0    True  False  False               True   \n",
      "6118  40.0                 16.0    True  False  False               True   \n",
      "...    ...                  ...     ...    ...    ...                ...   \n",
      "3776  29.0                  4.0   False   True  False               True   \n",
      "5195  38.0                 14.0    True  False  False              False   \n",
      "5230  25.0                  1.0   False   True  False               True   \n",
      "5395  27.0                  1.0   False   True  False               True   \n",
      "862   25.0                  2.0    True  False  False               True   \n",
      "\n",
      "      High School  Master's Degree    PhD  \n",
      "4092        False            False   True  \n",
      "2180        False            False  False  \n",
      "5224        False            False  False  \n",
      "459         False            False  False  \n",
      "6118        False            False  False  \n",
      "...           ...              ...    ...  \n",
      "3776        False            False  False  \n",
      "5195        False             True  False  \n",
      "5230        False            False  False  \n",
      "5395        False            False  False  \n",
      "862         False            False  False  \n",
      "\n",
      "[4688 rows x 9 columns]\n"
     ]
    }
   ],
   "source": [
    "print(X_train)"
   ]
  },
  {
   "cell_type": "code",
   "execution_count": 135,
   "metadata": {},
   "outputs": [
    {
     "name": "stdout",
     "output_type": "stream",
     "text": [
      "Coefficients: [-1.95138231e+03  8.03647794e+03  1.35681592e+03  7.15718814e+03\n",
      " -8.51400407e+03  3.04969635e+01 -3.54932854e+04  1.12960984e+04\n",
      "  2.41666900e+04]\n",
      "Intercept: 105716.56501353417\n"
     ]
    }
   ],
   "source": [
    "model_ml = LinearRegression().fit(X_train, y_train)\n",
    "print(\"Coefficients:\", model_ml.coef_)\n",
    "print(\"Intercept:\", model_ml.intercept_)"
   ]
  },
  {
   "cell_type": "code",
   "execution_count": 139,
   "metadata": {},
   "outputs": [
    {
     "name": "stdout",
     "output_type": "stream",
     "text": [
      "Mean Squared Error: 826734879.449579\n",
      "Root Mean Squared Error: 28752.99774718419\n",
      "R-squared: 0.7087771960045556\n"
     ]
    }
   ],
   "source": [
    "y_pred = model_ml.predict(X_test)\n",
    "mse = mean_squared_error(y_test, y_pred)\n",
    "r_squared = r2_score(y_test, y_pred)\n",
    "rmse = mse**0.5\n",
    "\n",
    "print(\"Mean Squared Error:\", mse)\n",
    "print(\"Root Mean Squared Error:\", rmse)\n",
    "print(\"R-squared:\", r_squared)"
   ]
  },
  {
   "cell_type": "markdown",
   "metadata": {},
   "source": [
    "# Machine Learning using Lasso Regression"
   ]
  },
  {
   "cell_type": "code",
   "execution_count": 137,
   "metadata": {},
   "outputs": [
    {
     "name": "stdout",
     "output_type": "stream",
     "text": [
      "Mean Squared Error: 826732757.6474081\n",
      "R-squared: 0.708777943423339\n",
      "Selected features: Index(['const', 'Male', 'Female', 'Other', 'High School', 'Bachelor's Degree',\n",
      "       'Master's Degree', 'PhD', 'Years of Experience'],\n",
      "      dtype='object')\n"
     ]
    }
   ],
   "source": [
    "y_lasso = df['Salary']\n",
    "x_lasso = df.drop(columns=['Salary','Job Title'])\n",
    "X_train_lasso, X_test_lasso, y_train_lasso, y_test_lasso = train_test_split(x_lasso, y_lasso, test_size=0.3, random_state=100)\n",
    "\n",
    "# Create Lasso regression model\n",
    "lasso = Lasso(alpha=0.1)  # Alpha is the regularization strength\n",
    "\n",
    "# Fit the Lasso model using the training data\n",
    "lasso.fit(X_train, y_train)\n",
    "\n",
    "# Make predictions on the test data\n",
    "y_pred = lasso.predict(X_test)\n",
    "\n",
    "# Evaluate the model\n",
    "mse = mean_squared_error(y_test, y_pred)\n",
    "r_squared = r2_score(y_test, y_pred)\n",
    "\n",
    "print(\"Mean Squared Error:\", mse)\n",
    "print(\"R-squared:\", r_squared)\n",
    "\n",
    "# Get coefficients that are not zero (selected features)\n",
    "selected_features = X.columns[lasso.coef_ != 0]\n",
    "print(\"Selected features:\", selected_features)"
   ]
  },
  {
   "cell_type": "code",
   "execution_count": 140,
   "metadata": {},
   "outputs": [],
   "source": [
    "df.to_csv('Salary_Data_Cleaned.csv',index=False)"
   ]
  }
 ],
 "metadata": {
  "kernelspec": {
   "display_name": "Python 3",
   "language": "python",
   "name": "python3"
  },
  "language_info": {
   "codemirror_mode": {
    "name": "ipython",
    "version": 3
   },
   "file_extension": ".py",
   "mimetype": "text/x-python",
   "name": "python",
   "nbconvert_exporter": "python",
   "pygments_lexer": "ipython3",
   "version": "3.11.2"
  }
 },
 "nbformat": 4,
 "nbformat_minor": 2
}
